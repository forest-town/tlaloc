{
 "cells": [
  {
   "cell_type": "code",
   "execution_count": 1,
   "metadata": {},
   "outputs": [],
   "source": [
    "import sys\r\n",
    "import json\r\n",
    "import torch\r\n",
    "import tensorboardX\r\n",
    "import pandas as pd\r\n",
    "from pathlib import Path\r\n",
    "import plotly.express as px\r\n",
    "from datetime import datetime\r\n",
    "from typing import List, Iterator\r\n",
    "import plotly.graph_objects as go\r\n",
    "\r\n",
    "# import locals\r\n",
    "sys.path.insert(0, str(Path('..').resolve()))\r\n",
    "from tlaloc import EarningsGRUModel\r\n",
    "from tlaloc import EarningsDataModule, SeqDataset"
   ]
  },
  {
   "cell_type": "code",
   "execution_count": 2,
   "metadata": {},
   "outputs": [],
   "source": [
    "trnsf_path = Path('../output/models/params.json').resolve()\r\n",
    "model_path = Path('../output/models/model.pth').resolve()\r\n",
    "\r\n",
    "behind = 90\r\n",
    "forward = 14"
   ]
  },
  {
   "cell_type": "code",
   "execution_count": 3,
   "metadata": {},
   "outputs": [
    {
     "name": "stdout",
     "output_type": "stream",
     "text": [
      "{\n",
      "    \"model\": {\n",
      "        \"input_dim\": 1,\n",
      "        \"hidden_dim\": 32,\n",
      "        \"num_layers\": 2,\n",
      "        \"output_dim\": 1,\n",
      "        \"lr\": 0.01\n",
      "    },\n",
      "    \"data\": {\n",
      "        \"min\": 271671.588898111,\n",
      "        \"max\": 524105.5617281316,\n",
      "        \"window\": 100\n",
      "    }\n",
      "}\n"
     ]
    }
   ],
   "source": [
    "with open(trnsf_path, 'r') as f:\n",
    "    meta = json.load(f)\n",
    "print(json.dumps(meta, indent=4))"
   ]
  },
  {
   "cell_type": "code",
   "execution_count": 4,
   "metadata": {},
   "outputs": [
    {
     "data": {
      "text/plain": "<All keys matched successfully>"
     },
     "execution_count": 4,
     "metadata": {},
     "output_type": "execute_result"
    }
   ],
   "source": [
    "model = EarningsGRUModel(**meta['model'])\r\n",
    "model.load_state_dict(torch.load(model_path))"
   ]
  },
  {
   "cell_type": "code",
   "execution_count": 5,
   "metadata": {},
   "outputs": [],
   "source": [
    "data = EarningsDataModule.load('../data/earnings.parquet')\r\n",
    "seq = torch.FloatTensor(data[int(-behind*1.5):])\r\n",
    "seq_adj = SeqDataset.scale(seq, meta['data']['min'], meta['data']['max'])"
   ]
  },
  {
   "cell_type": "code",
   "execution_count": 6,
   "metadata": {},
   "outputs": [],
   "source": [
    "#import torch, gc\n",
    "#gc.collect()\n",
    "#torch.cuda.empty_cache()"
   ]
  },
  {
   "cell_type": "code",
   "execution_count": 7,
   "metadata": {},
   "outputs": [
    {
     "data": {
      "text/plain": "device(type='cuda')"
     },
     "execution_count": 7,
     "metadata": {},
     "output_type": "execute_result"
    }
   ],
   "source": [
    "device = torch.device('cuda' if torch.cuda.is_available() else 'cpu')\n",
    "device"
   ]
  },
  {
   "cell_type": "code",
   "execution_count": 8,
   "metadata": {},
   "outputs": [
    {
     "name": "stdout",
     "output_type": "stream",
     "text": [
      "tensor([0., 1., 2., 3., 4., 5., 6., 7., 8., 9.])\n",
      "4 tensor([3., 4., 5.])\n",
      "3 tensor([4., 5., 6.])\n",
      "2 tensor([5., 6., 7.])\n",
      "1 tensor([6., 7., 8.])\n",
      "overlap: [4.0, 3.0, 2.0, 1.0]\n",
      "prediction: [7.0, 8.0, 9.0]\n",
      "0 [7.0, 8.0, 9.0]\n",
      "1 [8.0, 9.0, 0.0]\n",
      "2 [9.0, 0.0, 1.0]\n",
      "3 [0.0, 1.0, 2.0]\n",
      "[7.0, 8.0, 9.0, 0.0, 1.0, 2.0, 3.0]\n",
      "[0.0, 1.0, 2.0, 3.0]\n"
     ]
    }
   ],
   "source": [
    "import numpy as np\r\n",
    "seq_test = torch.FloatTensor(np.array([i for i in range(10)]))\r\n",
    "print(seq_test)\r\n",
    "win, lookahead = 3, 4\r\n",
    "\r\n",
    "overlap = []\r\n",
    "for i in reversed(range(1, lookahead+1)):\r\n",
    "    print(i, seq_test[-win-i:-i])\r\n",
    "    overlap.append(float(i))\r\n",
    "\r\n",
    "print('overlap:', overlap)\r\n",
    "\r\n",
    "test_inputs = list(seq_test[-win:].numpy())\r\n",
    "print('prediction:', test_inputs)\r\n",
    "for i in range(lookahead):\r\n",
    "    print(i, test_inputs[-win:])\r\n",
    "    test_inputs.append(float(i))\r\n",
    "\r\n",
    "print(test_inputs)\r\n",
    "print(test_inputs[-lookahead:])\r\n"
   ]
  },
  {
   "cell_type": "code",
   "execution_count": 9,
   "metadata": {},
   "outputs": [],
   "source": [
    "\n",
    "def predict(seq: torch.Tensor, window: int, lookbehind: int, lookahead: int) -> List:\n",
    "    overlap = []\n",
    "    predixn = list(seq[-window:].numpy())\n",
    "    with torch.no_grad():\n",
    "        model.to(device)\n",
    "        model.eval()\n",
    "        # get previous lookahead period (overlap)\n",
    "        for i in reversed(range(1, lookbehind+1)):\n",
    "            x = torch.FloatTensor(seq[-window-i:-i]).view(1, -1)\n",
    "            y = model(x.to(device))\n",
    "            overlap.append(y.detach().cpu().item())\n",
    "\n",
    "        # begin future lookahead period (predictions)\n",
    "        for i in range(lookahead):\n",
    "            x = torch.FloatTensor(predixn[-window:]).view(1, -1)\n",
    "            y = model(x.to(device))\n",
    "            predixn.append(y.detach().cpu().item())\n",
    "\n",
    "    return overlap + predixn[-lookahead:]"
   ]
  },
  {
   "cell_type": "code",
   "execution_count": 10,
   "metadata": {},
   "outputs": [],
   "source": [
    "#p_seq = predict(seq_adj, meta['data']['window'], behind, forward)\r\n",
    "p_seq = model.predict(list(seq_adj.numpy()), meta['data']['window'], behind, forward)"
   ]
  },
  {
   "cell_type": "code",
   "execution_count": 11,
   "metadata": {},
   "outputs": [
    {
     "name": "stdout",
     "output_type": "stream",
     "text": [
      "135 45 149\n"
     ]
    }
   ],
   "source": [
    "seq_size = seq_adj.size(0)\n",
    "actual_range = [i for i in range(seq_size)]\n",
    "pred_range = [i for i in range(seq_size-behind,seq_size+forward)]\n",
    "print(seq_size, seq_size-behind, seq_size+forward)"
   ]
  },
  {
   "cell_type": "code",
   "execution_count": 12,
   "metadata": {},
   "outputs": [
    {
     "data": {
      "application/vnd.plotly.v1+json": {
       "config": {
        "plotlyServerURL": "https://plot.ly"
       },
       "data": [
        {
         "mode": "lines",
         "name": "Actual",
         "type": "scatter",
         "x": [
          0,
          1,
          2,
          3,
          4,
          5,
          6,
          7,
          8,
          9,
          10,
          11,
          12,
          13,
          14,
          15,
          16,
          17,
          18,
          19,
          20,
          21,
          22,
          23,
          24,
          25,
          26,
          27,
          28,
          29,
          30,
          31,
          32,
          33,
          34,
          35,
          36,
          37,
          38,
          39,
          40,
          41,
          42,
          43,
          44,
          45,
          46,
          47,
          48,
          49,
          50,
          51,
          52,
          53,
          54,
          55,
          56,
          57,
          58,
          59,
          60,
          61,
          62,
          63,
          64,
          65,
          66,
          67,
          68,
          69,
          70,
          71,
          72,
          73,
          74,
          75,
          76,
          77,
          78,
          79,
          80,
          81,
          82,
          83,
          84,
          85,
          86,
          87,
          88,
          89,
          90,
          91,
          92,
          93,
          94,
          95,
          96,
          97,
          98,
          99,
          100,
          101,
          102,
          103,
          104,
          105,
          106,
          107,
          108,
          109,
          110,
          111,
          112,
          113,
          114,
          115,
          116,
          117,
          118,
          119,
          120,
          121,
          122,
          123,
          124,
          125,
          126,
          127,
          128,
          129,
          130,
          131,
          132,
          133,
          134
         ],
         "y": [
          330429.34375,
          335124.09375,
          337927.40625,
          337882.78125,
          340398.46875,
          348004.9375,
          351887.15625,
          353909.21875,
          349526.71875,
          357322.5,
          360355.3125,
          357960.46875,
          353047.96875,
          360072.46875,
          358046.125,
          354156.03125,
          352541.1875,
          355159.0625,
          357326.40625,
          359204.5625,
          354851.4375,
          345909.5,
          344326.09375,
          345570.5625,
          344388.5,
          346549.125,
          344628.03125,
          345876.875,
          342719.5625,
          338990,
          345393.59375,
          346861.25,
          350205.90625,
          351335.65625,
          349425.15625,
          354068.46875,
          353115,
          352033,
          355203.28125,
          354767.21875,
          347558.28125,
          349151.46875,
          348895.65625,
          345206.625,
          342617.5625,
          344604.34375,
          349649.09375,
          345719.28125,
          348129.8125,
          352518.5625,
          352416.53125,
          354929.84375,
          349414.71875,
          348425,
          351704.1875,
          351390.5625,
          344502.46875,
          336911.21875,
          333464.03125,
          330384.09375,
          329339.90625,
          333387.90625,
          333351.9375,
          333792.1875,
          333526.59375,
          331457.75,
          334915.46875,
          335476.75,
          339905.90625,
          336842.46875,
          335527.59375,
          337232.53125,
          336993.0625,
          338816.78125,
          332234.875,
          335720.65625,
          336146.90625,
          341194.9375,
          342124.25,
          343852.375,
          343336.375,
          344777.40625,
          341068.1875,
          344561.625,
          345402.28125,
          343044.1875,
          340084.125,
          344043.46875,
          337525.15625,
          338148.5,
          333078.78125,
          334860.875,
          334035.09375,
          334407.75,
          330211.5625,
          329117.4375,
          326872.1875,
          322658.28125,
          322081.625,
          318807.90625,
          317481.3125,
          317425.65625,
          323189.90625,
          322032.9375,
          319100,
          311249,
          305504.3125,
          307887.625,
          304874.21875,
          310079.5625,
          307963.46875,
          314782.59375,
          318511.65625,
          314644.6875,
          314424.28125,
          314716.21875,
          316446.65625,
          317378.34375,
          316824,
          317122.375,
          318583.46875,
          319947.28125,
          325159.71875,
          328583.125,
          328360.34375,
          322865.65625,
          325752,
          329994.5,
          333320.4375,
          339669.9375,
          341644.03125,
          339608.71875,
          337593.78125,
          340009.9375,
          339467.65625
         ]
        },
        {
         "mode": "lines",
         "name": "Prediction",
         "type": "scatter",
         "x": [
          45,
          46,
          47,
          48,
          49,
          50,
          51,
          52,
          53,
          54,
          55,
          56,
          57,
          58,
          59,
          60,
          61,
          62,
          63,
          64,
          65,
          66,
          67,
          68,
          69,
          70,
          71,
          72,
          73,
          74,
          75,
          76,
          77,
          78,
          79,
          80,
          81,
          82,
          83,
          84,
          85,
          86,
          87,
          88,
          89,
          90,
          91,
          92,
          93,
          94,
          95,
          96,
          97,
          98,
          99,
          100,
          101,
          102,
          103,
          104,
          105,
          106,
          107,
          108,
          109,
          110,
          111,
          112,
          113,
          114,
          115,
          116,
          117,
          118,
          119,
          120,
          121,
          122,
          123,
          124,
          125,
          126,
          127,
          128,
          129,
          130,
          131,
          132,
          133,
          134,
          135,
          136,
          137,
          138,
          139,
          140,
          141,
          142,
          143,
          144,
          145,
          146,
          147,
          148
         ],
         "y": [
          343836.125,
          343859.78125,
          347171.46875,
          346601.875,
          347284.6875,
          350292.625,
          351760.96875,
          353673.125,
          351188.90625,
          349074.9375,
          350252.84375,
          350976.75,
          347097.9375,
          340466.59375,
          335493,
          331959.8125,
          330132.15625,
          331878.5625,
          332949.21875,
          333514.9375,
          333525.9375,
          332290.28125,
          333656.125,
          334871.28125,
          337904.96875,
          337562.8125,
          336224.5625,
          336570.5,
          336816.0625,
          337977.71875,
          334705.6875,
          334842.65625,
          335576.40625,
          338909.5625,
          341125,
          342852.09375,
          343172.9375,
          344004.8125,
          342258.71875,
          343307.125,
          344564.96875,
          343701.375,
          341336.9375,
          342528.375,
          339644.0625,
          338362.25,
          335067.375,
          334526.875,
          334171.59375,
          334261.375,
          331901.34375,
          329999.1875,
          328006.09375,
          324802.25,
          323028.4375,
          320614.15625,
          318791.8125,
          318077.625,
          321146.15625,
          322241.375,
          320758.1875,
          315409.8125,
          309608.53125,
          308526.71875,
          307043.375,
          309184.96875,
          309327.3125,
          312828.21875,
          316806.65625,
          316389.1875,
          315527.40625,
          315286.6875,
          316261.4375,
          317360.15625,
          317500.4375,
          317573.96875,
          318412.25,
          319641.1875,
          323140.0625,
          326811.03125,
          328198.15625,
          325326.1875,
          325293.59375,
          328094.0625,
          331540.84375,
          336663.5,
          340071.6875,
          340034.75,
          338449.34375,
          339086.9375,
          339343.21875,
          339321.28125,
          339227.6875,
          339109.9375,
          339005.75,
          338919.59375,
          338835.375,
          338743.875,
          338649.125,
          338557.375,
          338469.40625,
          338382.625,
          338295.5,
          338208.65625
         ]
        }
       ],
       "layout": {
        "template": {
         "data": {
          "bar": [
           {
            "error_x": {
             "color": "#2a3f5f"
            },
            "error_y": {
             "color": "#2a3f5f"
            },
            "marker": {
             "line": {
              "color": "#E5ECF6",
              "width": 0.5
             }
            },
            "type": "bar"
           }
          ],
          "barpolar": [
           {
            "marker": {
             "line": {
              "color": "#E5ECF6",
              "width": 0.5
             }
            },
            "type": "barpolar"
           }
          ],
          "carpet": [
           {
            "aaxis": {
             "endlinecolor": "#2a3f5f",
             "gridcolor": "white",
             "linecolor": "white",
             "minorgridcolor": "white",
             "startlinecolor": "#2a3f5f"
            },
            "baxis": {
             "endlinecolor": "#2a3f5f",
             "gridcolor": "white",
             "linecolor": "white",
             "minorgridcolor": "white",
             "startlinecolor": "#2a3f5f"
            },
            "type": "carpet"
           }
          ],
          "choropleth": [
           {
            "colorbar": {
             "outlinewidth": 0,
             "ticks": ""
            },
            "type": "choropleth"
           }
          ],
          "contour": [
           {
            "colorbar": {
             "outlinewidth": 0,
             "ticks": ""
            },
            "colorscale": [
             [
              0,
              "#0d0887"
             ],
             [
              0.1111111111111111,
              "#46039f"
             ],
             [
              0.2222222222222222,
              "#7201a8"
             ],
             [
              0.3333333333333333,
              "#9c179e"
             ],
             [
              0.4444444444444444,
              "#bd3786"
             ],
             [
              0.5555555555555556,
              "#d8576b"
             ],
             [
              0.6666666666666666,
              "#ed7953"
             ],
             [
              0.7777777777777778,
              "#fb9f3a"
             ],
             [
              0.8888888888888888,
              "#fdca26"
             ],
             [
              1,
              "#f0f921"
             ]
            ],
            "type": "contour"
           }
          ],
          "contourcarpet": [
           {
            "colorbar": {
             "outlinewidth": 0,
             "ticks": ""
            },
            "type": "contourcarpet"
           }
          ],
          "heatmap": [
           {
            "colorbar": {
             "outlinewidth": 0,
             "ticks": ""
            },
            "colorscale": [
             [
              0,
              "#0d0887"
             ],
             [
              0.1111111111111111,
              "#46039f"
             ],
             [
              0.2222222222222222,
              "#7201a8"
             ],
             [
              0.3333333333333333,
              "#9c179e"
             ],
             [
              0.4444444444444444,
              "#bd3786"
             ],
             [
              0.5555555555555556,
              "#d8576b"
             ],
             [
              0.6666666666666666,
              "#ed7953"
             ],
             [
              0.7777777777777778,
              "#fb9f3a"
             ],
             [
              0.8888888888888888,
              "#fdca26"
             ],
             [
              1,
              "#f0f921"
             ]
            ],
            "type": "heatmap"
           }
          ],
          "heatmapgl": [
           {
            "colorbar": {
             "outlinewidth": 0,
             "ticks": ""
            },
            "colorscale": [
             [
              0,
              "#0d0887"
             ],
             [
              0.1111111111111111,
              "#46039f"
             ],
             [
              0.2222222222222222,
              "#7201a8"
             ],
             [
              0.3333333333333333,
              "#9c179e"
             ],
             [
              0.4444444444444444,
              "#bd3786"
             ],
             [
              0.5555555555555556,
              "#d8576b"
             ],
             [
              0.6666666666666666,
              "#ed7953"
             ],
             [
              0.7777777777777778,
              "#fb9f3a"
             ],
             [
              0.8888888888888888,
              "#fdca26"
             ],
             [
              1,
              "#f0f921"
             ]
            ],
            "type": "heatmapgl"
           }
          ],
          "histogram": [
           {
            "marker": {
             "colorbar": {
              "outlinewidth": 0,
              "ticks": ""
             }
            },
            "type": "histogram"
           }
          ],
          "histogram2d": [
           {
            "colorbar": {
             "outlinewidth": 0,
             "ticks": ""
            },
            "colorscale": [
             [
              0,
              "#0d0887"
             ],
             [
              0.1111111111111111,
              "#46039f"
             ],
             [
              0.2222222222222222,
              "#7201a8"
             ],
             [
              0.3333333333333333,
              "#9c179e"
             ],
             [
              0.4444444444444444,
              "#bd3786"
             ],
             [
              0.5555555555555556,
              "#d8576b"
             ],
             [
              0.6666666666666666,
              "#ed7953"
             ],
             [
              0.7777777777777778,
              "#fb9f3a"
             ],
             [
              0.8888888888888888,
              "#fdca26"
             ],
             [
              1,
              "#f0f921"
             ]
            ],
            "type": "histogram2d"
           }
          ],
          "histogram2dcontour": [
           {
            "colorbar": {
             "outlinewidth": 0,
             "ticks": ""
            },
            "colorscale": [
             [
              0,
              "#0d0887"
             ],
             [
              0.1111111111111111,
              "#46039f"
             ],
             [
              0.2222222222222222,
              "#7201a8"
             ],
             [
              0.3333333333333333,
              "#9c179e"
             ],
             [
              0.4444444444444444,
              "#bd3786"
             ],
             [
              0.5555555555555556,
              "#d8576b"
             ],
             [
              0.6666666666666666,
              "#ed7953"
             ],
             [
              0.7777777777777778,
              "#fb9f3a"
             ],
             [
              0.8888888888888888,
              "#fdca26"
             ],
             [
              1,
              "#f0f921"
             ]
            ],
            "type": "histogram2dcontour"
           }
          ],
          "mesh3d": [
           {
            "colorbar": {
             "outlinewidth": 0,
             "ticks": ""
            },
            "type": "mesh3d"
           }
          ],
          "parcoords": [
           {
            "line": {
             "colorbar": {
              "outlinewidth": 0,
              "ticks": ""
             }
            },
            "type": "parcoords"
           }
          ],
          "pie": [
           {
            "automargin": true,
            "type": "pie"
           }
          ],
          "scatter": [
           {
            "marker": {
             "colorbar": {
              "outlinewidth": 0,
              "ticks": ""
             }
            },
            "type": "scatter"
           }
          ],
          "scatter3d": [
           {
            "line": {
             "colorbar": {
              "outlinewidth": 0,
              "ticks": ""
             }
            },
            "marker": {
             "colorbar": {
              "outlinewidth": 0,
              "ticks": ""
             }
            },
            "type": "scatter3d"
           }
          ],
          "scattercarpet": [
           {
            "marker": {
             "colorbar": {
              "outlinewidth": 0,
              "ticks": ""
             }
            },
            "type": "scattercarpet"
           }
          ],
          "scattergeo": [
           {
            "marker": {
             "colorbar": {
              "outlinewidth": 0,
              "ticks": ""
             }
            },
            "type": "scattergeo"
           }
          ],
          "scattergl": [
           {
            "marker": {
             "colorbar": {
              "outlinewidth": 0,
              "ticks": ""
             }
            },
            "type": "scattergl"
           }
          ],
          "scattermapbox": [
           {
            "marker": {
             "colorbar": {
              "outlinewidth": 0,
              "ticks": ""
             }
            },
            "type": "scattermapbox"
           }
          ],
          "scatterpolar": [
           {
            "marker": {
             "colorbar": {
              "outlinewidth": 0,
              "ticks": ""
             }
            },
            "type": "scatterpolar"
           }
          ],
          "scatterpolargl": [
           {
            "marker": {
             "colorbar": {
              "outlinewidth": 0,
              "ticks": ""
             }
            },
            "type": "scatterpolargl"
           }
          ],
          "scatterternary": [
           {
            "marker": {
             "colorbar": {
              "outlinewidth": 0,
              "ticks": ""
             }
            },
            "type": "scatterternary"
           }
          ],
          "surface": [
           {
            "colorbar": {
             "outlinewidth": 0,
             "ticks": ""
            },
            "colorscale": [
             [
              0,
              "#0d0887"
             ],
             [
              0.1111111111111111,
              "#46039f"
             ],
             [
              0.2222222222222222,
              "#7201a8"
             ],
             [
              0.3333333333333333,
              "#9c179e"
             ],
             [
              0.4444444444444444,
              "#bd3786"
             ],
             [
              0.5555555555555556,
              "#d8576b"
             ],
             [
              0.6666666666666666,
              "#ed7953"
             ],
             [
              0.7777777777777778,
              "#fb9f3a"
             ],
             [
              0.8888888888888888,
              "#fdca26"
             ],
             [
              1,
              "#f0f921"
             ]
            ],
            "type": "surface"
           }
          ],
          "table": [
           {
            "cells": {
             "fill": {
              "color": "#EBF0F8"
             },
             "line": {
              "color": "white"
             }
            },
            "header": {
             "fill": {
              "color": "#C8D4E3"
             },
             "line": {
              "color": "white"
             }
            },
            "type": "table"
           }
          ]
         },
         "layout": {
          "annotationdefaults": {
           "arrowcolor": "#2a3f5f",
           "arrowhead": 0,
           "arrowwidth": 1
          },
          "autotypenumbers": "strict",
          "coloraxis": {
           "colorbar": {
            "outlinewidth": 0,
            "ticks": ""
           }
          },
          "colorscale": {
           "diverging": [
            [
             0,
             "#8e0152"
            ],
            [
             0.1,
             "#c51b7d"
            ],
            [
             0.2,
             "#de77ae"
            ],
            [
             0.3,
             "#f1b6da"
            ],
            [
             0.4,
             "#fde0ef"
            ],
            [
             0.5,
             "#f7f7f7"
            ],
            [
             0.6,
             "#e6f5d0"
            ],
            [
             0.7,
             "#b8e186"
            ],
            [
             0.8,
             "#7fbc41"
            ],
            [
             0.9,
             "#4d9221"
            ],
            [
             1,
             "#276419"
            ]
           ],
           "sequential": [
            [
             0,
             "#0d0887"
            ],
            [
             0.1111111111111111,
             "#46039f"
            ],
            [
             0.2222222222222222,
             "#7201a8"
            ],
            [
             0.3333333333333333,
             "#9c179e"
            ],
            [
             0.4444444444444444,
             "#bd3786"
            ],
            [
             0.5555555555555556,
             "#d8576b"
            ],
            [
             0.6666666666666666,
             "#ed7953"
            ],
            [
             0.7777777777777778,
             "#fb9f3a"
            ],
            [
             0.8888888888888888,
             "#fdca26"
            ],
            [
             1,
             "#f0f921"
            ]
           ],
           "sequentialminus": [
            [
             0,
             "#0d0887"
            ],
            [
             0.1111111111111111,
             "#46039f"
            ],
            [
             0.2222222222222222,
             "#7201a8"
            ],
            [
             0.3333333333333333,
             "#9c179e"
            ],
            [
             0.4444444444444444,
             "#bd3786"
            ],
            [
             0.5555555555555556,
             "#d8576b"
            ],
            [
             0.6666666666666666,
             "#ed7953"
            ],
            [
             0.7777777777777778,
             "#fb9f3a"
            ],
            [
             0.8888888888888888,
             "#fdca26"
            ],
            [
             1,
             "#f0f921"
            ]
           ]
          },
          "colorway": [
           "#636efa",
           "#EF553B",
           "#00cc96",
           "#ab63fa",
           "#FFA15A",
           "#19d3f3",
           "#FF6692",
           "#B6E880",
           "#FF97FF",
           "#FECB52"
          ],
          "font": {
           "color": "#2a3f5f"
          },
          "geo": {
           "bgcolor": "white",
           "lakecolor": "white",
           "landcolor": "#E5ECF6",
           "showlakes": true,
           "showland": true,
           "subunitcolor": "white"
          },
          "hoverlabel": {
           "align": "left"
          },
          "hovermode": "closest",
          "mapbox": {
           "style": "light"
          },
          "paper_bgcolor": "white",
          "plot_bgcolor": "#E5ECF6",
          "polar": {
           "angularaxis": {
            "gridcolor": "white",
            "linecolor": "white",
            "ticks": ""
           },
           "bgcolor": "#E5ECF6",
           "radialaxis": {
            "gridcolor": "white",
            "linecolor": "white",
            "ticks": ""
           }
          },
          "scene": {
           "xaxis": {
            "backgroundcolor": "#E5ECF6",
            "gridcolor": "white",
            "gridwidth": 2,
            "linecolor": "white",
            "showbackground": true,
            "ticks": "",
            "zerolinecolor": "white"
           },
           "yaxis": {
            "backgroundcolor": "#E5ECF6",
            "gridcolor": "white",
            "gridwidth": 2,
            "linecolor": "white",
            "showbackground": true,
            "ticks": "",
            "zerolinecolor": "white"
           },
           "zaxis": {
            "backgroundcolor": "#E5ECF6",
            "gridcolor": "white",
            "gridwidth": 2,
            "linecolor": "white",
            "showbackground": true,
            "ticks": "",
            "zerolinecolor": "white"
           }
          },
          "shapedefaults": {
           "line": {
            "color": "#2a3f5f"
           }
          },
          "ternary": {
           "aaxis": {
            "gridcolor": "white",
            "linecolor": "white",
            "ticks": ""
           },
           "baxis": {
            "gridcolor": "white",
            "linecolor": "white",
            "ticks": ""
           },
           "bgcolor": "#E5ECF6",
           "caxis": {
            "gridcolor": "white",
            "linecolor": "white",
            "ticks": ""
           }
          },
          "title": {
           "x": 0.05
          },
          "xaxis": {
           "automargin": true,
           "gridcolor": "white",
           "linecolor": "white",
           "ticks": "",
           "title": {
            "standoff": 15
           },
           "zerolinecolor": "white",
           "zerolinewidth": 2
          },
          "yaxis": {
           "automargin": true,
           "gridcolor": "white",
           "linecolor": "white",
           "ticks": "",
           "title": {
            "standoff": 15
           },
           "zerolinecolor": "white",
           "zerolinewidth": 2
          }
         }
        },
        "title": {
         "text": "Earnings Prediction"
        },
        "width": 960,
        "xaxis": {
         "title": {
          "text": "Day"
         }
        },
        "yaxis": {
         "title": {
          "text": "Scaled Price"
         }
        }
       }
      }
     },
     "metadata": {},
     "output_type": "display_data"
    }
   ],
   "source": [
    "dmin, dmax = meta['data']['min'], meta['data']['max']\r\n",
    "actual = SeqDataset.inverse_scale(seq_adj, dmin, dmax)\r\n",
    "predicted = SeqDataset.inverse_scale(torch.FloatTensor(p_seq), dmin, dmax)\r\n",
    "fig = go.Figure()\r\n",
    "fig.add_trace(go.Scatter(x=actual_range, y=actual.numpy(), mode='lines', name='Actual'))\r\n",
    "fig.add_trace(go.Scatter(x=pred_range, y=predicted.numpy(), mode='lines', name='Prediction'))\r\n",
    "fig.update_layout(title=f'Earnings Prediction',\r\n",
    "                   xaxis_title='Day',\r\n",
    "                   yaxis_title='Scaled Price', width=960)\r\n",
    "fig.show()"
   ]
  },
  {
   "cell_type": "code",
   "execution_count": null,
   "metadata": {},
   "outputs": [],
   "source": []
  }
 ],
 "metadata": {
  "kernelspec": {
   "display_name": "Python 3.8.8 64-bit ('torch': conda)",
   "name": "python388jvsc74a57bd0d412cf0cc95275da7f3e5a2cde727869a6beaae6991f4cbb39a087a6b0868edc"
  },
  "language_info": {
   "codemirror_mode": {
    "name": "ipython",
    "version": 3
   },
   "file_extension": ".py",
   "mimetype": "text/x-python",
   "name": "python",
   "nbconvert_exporter": "python",
   "pygments_lexer": "ipython3",
   "version": "3.8.8"
  },
  "metadata": {
   "interpreter": {
    "hash": "d412cf0cc95275da7f3e5a2cde727869a6beaae6991f4cbb39a087a6b0868edc"
   }
  },
  "orig_nbformat": 2
 },
 "nbformat": 4,
 "nbformat_minor": 2
}