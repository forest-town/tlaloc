{
 "cells": [
  {
   "cell_type": "code",
   "execution_count": 1,
   "metadata": {},
   "outputs": [],
   "source": [
    "import sys\r\n",
    "import json\r\n",
    "import torch\r\n",
    "import tensorboardX\r\n",
    "import pandas as pd\r\n",
    "from pathlib import Path\r\n",
    "import plotly.express as px\r\n",
    "from datetime import datetime\r\n",
    "from typing import List, Iterator\r\n",
    "import plotly.graph_objects as go\r\n",
    "import matplotlib.pyplot as plt\r\n",
    "import matplotlib.ticker as tick\r\n",
    "\r\n",
    "\r\n",
    "# import locals\r\n",
    "sys.path.insert(0, str(Path('..').resolve()))\r\n",
    "from tlaloc import EarningsGRUModel\r\n",
    "from tlaloc import EarningsDataModule, SeqDataset"
   ]
  },
  {
   "cell_type": "code",
   "execution_count": 2,
   "metadata": {},
   "outputs": [],
   "source": [
    "trnsf_path = Path('../outputs/model/params.json').resolve()\r\n",
    "model_path = Path('../outputs/model/model.pth').resolve()\r\n",
    "\r\n",
    "behind = 90\r\n",
    "forward = 14"
   ]
  },
  {
   "cell_type": "code",
   "execution_count": 3,
   "metadata": {},
   "outputs": [
    {
     "name": "stdout",
     "output_type": "stream",
     "text": [
      "{\n",
      "    \"model\": {\n",
      "        \"input_dim\": 1,\n",
      "        \"hidden_dim\": 32,\n",
      "        \"num_layers\": 2,\n",
      "        \"output_dim\": 1,\n",
      "        \"lr\": 0.01\n",
      "    },\n",
      "    \"data\": {\n",
      "        \"min\": 271671.588898111,\n",
      "        \"max\": 524105.5617281316,\n",
      "        \"window\": 100\n",
      "    }\n",
      "}\n"
     ]
    }
   ],
   "source": [
    "with open(trnsf_path, 'r') as f:\n",
    "    meta = json.load(f)\n",
    "print(json.dumps(meta, indent=4))"
   ]
  },
  {
   "cell_type": "code",
   "execution_count": 4,
   "metadata": {},
   "outputs": [
    {
     "data": {
      "text/plain": "<All keys matched successfully>"
     },
     "execution_count": 4,
     "metadata": {},
     "output_type": "execute_result"
    }
   ],
   "source": [
    "model = EarningsGRUModel(**meta['model'])\r\n",
    "model.load_state_dict(torch.load(model_path))"
   ]
  },
  {
   "cell_type": "code",
   "execution_count": 5,
   "metadata": {},
   "outputs": [
    {
     "name": "stderr",
     "output_type": "stream",
     "text": [
      "C:\\Users\\sethj\\.conda\\envs\\torch\\lib\\site-packages\\torch\\onnx\\symbolic_opset9.py:1941: UserWarning: Exporting a model to ONNX with a batch_size other than 1, with a variable length with GRU can cause an error when running the ONNX model with a different batch size. Make sure to save the model with a batch size of 1, or define the initial states (h0/c0) as inputs of the model. \n",
      "  warnings.warn(\"Exporting a model to ONNX with a batch_size other than 1, \" +\n"
     ]
    }
   ],
   "source": [
    "filepath = 'model.onnx'\r\n",
    "input_sample = torch.zeros((1, 100, 1))\r\n",
    "model.to_onnx(filepath, input_sample, export_params=True)"
   ]
  },
  {
   "cell_type": "code",
   "execution_count": 6,
   "metadata": {},
   "outputs": [
    {
     "name": "stdout",
     "output_type": "stream",
     "text": [
      "array([330429.34, 335124.1 , 337927.4 , 337882.78, 340398.47, 348004.94,\n",
      "       351887.16, 353909.22, 349526.72, 357322.5 , 360355.3 , 357960.47,\n",
      "       353047.97, 360072.47, 358046.12, 354156.03, 352541.2 , 355159.06,\n",
      "       357326.4 , 359204.56, 354851.44, 345909.5 , 344326.1 , 345570.56,\n",
      "       344388.5 , 346549.12, 344628.03, 345876.88, 342719.56, 338990.  ,\n",
      "       345393.6 , 346861.25, 350205.9 , 351335.66, 349425.16, 354068.47,\n",
      "       353115.  , 352033.  , 355203.28, 354767.22, 347558.28, 349151.47,\n",
      "       348895.66, 345206.62, 342617.56, 344604.34, 349649.1 , 345719.28,\n",
      "       348129.8 , 352518.56, 352416.53, 354929.84, 349414.72, 348425.  ,\n",
      "       351704.2 , 351390.56, 344502.47, 336911.22, 333464.03, 330384.1 ,\n",
      "       329339.9 , 333387.9 , 333351.94, 333792.2 , 333526.6 , 331457.75,\n",
      "       334915.47, 335476.75, 339905.9 , 336842.47, 335527.6 , 337232.53,\n",
      "       336993.06, 338816.78, 332234.88, 335720.66, 336146.9 , 341194.94,\n",
      "       342124.25, 343852.38, 343336.38, 344777.4 , 341068.2 , 344561.62,\n",
      "       345402.28, 343044.2 , 340084.12, 344043.47, 337525.16, 338148.5 ,\n",
      "       333078.78, 334860.88, 334035.1 , 334407.75, 330211.56, 329117.44,\n",
      "       326872.2 , 322658.28, 322081.62, 318807.9 , 317481.3 , 317425.66,\n",
      "       323189.9 , 322032.94, 319100.  , 311249.  , 305504.3 , 307887.62,\n",
      "       304874.22, 310079.56, 307963.47, 314782.6 , 318511.66, 314644.7 ,\n",
      "       314424.28, 314716.22, 316446.66, 317378.34, 316824.  , 317122.38,\n",
      "       318583.47, 319947.28, 325159.72, 328583.12, 328360.34, 322865.66,\n",
      "       325752.  , 329994.5 , 333320.44, 339669.94, 341644.03, 339608.72,\n",
      "       337593.78, 340009.94, 339467.66], dtype=float32)\n"
     ]
    }
   ],
   "source": [
    "data = EarningsDataModule.load('../data/earnings.parquet')\r\n",
    "data = data['earnings'].values\r\n",
    "seq = torch.FloatTensor(data[int(-behind*1.5):])\r\n",
    "seq_adj = SeqDataset.scale(seq, meta['data']['min'], meta['data']['max'])\r\n",
    "print(repr(seq.numpy()))\r\n"
   ]
  },
  {
   "cell_type": "code",
   "execution_count": 7,
   "metadata": {},
   "outputs": [
    {
     "ename": "NameError",
     "evalue": "name 'df' is not defined",
     "output_type": "error",
     "traceback": [
      "\u001b[1;31m---------------------------------------------------------------------------\u001b[0m",
      "\u001b[1;31mNameError\u001b[0m                                 Traceback (most recent call last)",
      "\u001b[1;32m<ipython-input-7-faec9a9d1eb5>\u001b[0m in \u001b[0;36m<module>\u001b[1;34m\u001b[0m\n\u001b[0;32m      1\u001b[0m \u001b[0mdataframe\u001b[0m \u001b[1;33m=\u001b[0m \u001b[0mpd\u001b[0m\u001b[1;33m.\u001b[0m\u001b[0mread_parquet\u001b[0m\u001b[1;33m(\u001b[0m\u001b[1;34m'../data/earnings.parquet'\u001b[0m\u001b[1;33m)\u001b[0m\u001b[1;33m\u001b[0m\u001b[1;33m\u001b[0m\u001b[0m\n\u001b[0;32m      2\u001b[0m \u001b[0mfig\u001b[0m\u001b[1;33m,\u001b[0m \u001b[0max\u001b[0m \u001b[1;33m=\u001b[0m \u001b[0mplt\u001b[0m\u001b[1;33m.\u001b[0m\u001b[0msubplots\u001b[0m\u001b[1;33m(\u001b[0m\u001b[0mfigsize\u001b[0m\u001b[1;33m=\u001b[0m\u001b[1;33m(\u001b[0m\u001b[1;36m1600\u001b[0m\u001b[1;33m/\u001b[0m\u001b[1;36m96.\u001b[0m\u001b[1;33m,\u001b[0m \u001b[1;36m600\u001b[0m\u001b[1;33m/\u001b[0m\u001b[1;36m96.\u001b[0m\u001b[1;33m)\u001b[0m\u001b[1;33m)\u001b[0m\u001b[1;33m\u001b[0m\u001b[1;33m\u001b[0m\u001b[0m\n\u001b[1;32m----> 3\u001b[1;33m \u001b[1;32mfor\u001b[0m \u001b[0mkey\u001b[0m\u001b[1;33m,\u001b[0m \u001b[0mgrp\u001b[0m \u001b[1;32min\u001b[0m \u001b[0mdf\u001b[0m\u001b[1;33m.\u001b[0m\u001b[0mgroupby\u001b[0m\u001b[1;33m(\u001b[0m\u001b[1;33m[\u001b[0m\u001b[1;34m'resource_id'\u001b[0m\u001b[1;33m]\u001b[0m\u001b[1;33m)\u001b[0m\u001b[1;33m:\u001b[0m\u001b[1;33m\u001b[0m\u001b[1;33m\u001b[0m\u001b[0m\n\u001b[0m\u001b[0;32m      4\u001b[0m     \u001b[0max\u001b[0m \u001b[1;33m=\u001b[0m \u001b[0mgrp\u001b[0m\u001b[1;33m.\u001b[0m\u001b[0mplot\u001b[0m\u001b[1;33m(\u001b[0m\u001b[0max\u001b[0m\u001b[1;33m=\u001b[0m\u001b[0max\u001b[0m\u001b[1;33m,\u001b[0m \u001b[0mkind\u001b[0m\u001b[1;33m=\u001b[0m\u001b[1;34m'line'\u001b[0m\u001b[1;33m,\u001b[0m \u001b[0mx\u001b[0m\u001b[1;33m=\u001b[0m\u001b[1;34m'date'\u001b[0m\u001b[1;33m,\u001b[0m \u001b[0my\u001b[0m\u001b[1;33m=\u001b[0m\u001b[1;34m'earnings'\u001b[0m\u001b[1;33m,\u001b[0m \u001b[0mlabel\u001b[0m\u001b[1;33m=\u001b[0m\u001b[0mkey\u001b[0m\u001b[1;33m)\u001b[0m\u001b[1;33m\u001b[0m\u001b[1;33m\u001b[0m\u001b[0m\n\u001b[0;32m      5\u001b[0m \u001b[1;33m\u001b[0m\u001b[0m\n",
      "\u001b[1;31mNameError\u001b[0m: name 'df' is not defined"
     ]
    },
    {
     "data": {
      "image/png": "[encoded data removed]",
      "text/plain": "<Figure size 1200x450 with 1 Axes>"
     },
     "metadata": {
      "needs_background": "light"
     },
     "output_type": "display_data"
    }
   ],
   "source": [
    "dataframe = pd.read_parquet('../data/earnings.parquet')\r\n",
    "fig, ax = plt.subplots(figsize=(1600/96., 600/96.))\r\n",
    "for key, grp in df.groupby(['resource_id']):\r\n",
    "    ax = grp.plot(ax=ax, kind='line', x='date', y='earnings', label=key)\r\n",
    "\r\n",
    "ax.yaxis.set_major_formatter(tick.FuncFormatter(lambda x, p: '${:1.0f}K'.format(x/1000.)))\r\n",
    "leg = ax.legend()\r\n",
    "plt.title(f'Original Earnings Data')\r\n",
    "plt.xlabel('Period')\r\n",
    "plt.ylabel('Earnings')\r\n",
    "plt.show()"
   ]
  },
  {
   "cell_type": "code",
   "execution_count": null,
   "metadata": {},
   "outputs": [],
   "source": [
    "df2 = df.groupby('date')['earnings'].sum().reset_index(name='earnings')\r\n",
    "print(df2)\r\n",
    "\r\n",
    "#fig, ax = plt.subplots(figsize=(1600/96., 600/96.))\r\n",
    "#ax.plot(df2['date'], df2['earnings'], color='blue', label='actual')\r\n",
    "#ax.yaxis.set_major_formatter(tick.FuncFormatter(lambda x, p: '${:1.0f}K'.format(x/1000.)))\r\n",
    "#leg = ax.legend()\r\n",
    "#plt.title(f'Sequence Prediction [Back: {behind}, Forward: {forward}]')\r\n",
    "#plt.xlabel('Period')\r\n",
    "#plt.ylabel('Earnings')\r\n",
    "#plt.show()\r\n"
   ]
  },
  {
   "cell_type": "code",
   "execution_count": null,
   "metadata": {},
   "outputs": [],
   "source": [
    "\r\n",
    "\r\n",
    "for key, grp in df.groupby(['resource_id']):\r\n",
    "    ax = grp.plot(ax=ax, kind='line', x='date', y='earnings', label=key)\r\n",
    "\r\n",
    "ax.yaxis.set_major_formatter(tick.FuncFormatter(lambda x, p: '${:1.0f}K'.format(x/1000.)))\r\n",
    "leg = ax.legend()\r\n",
    "plt.title(f'Original Earnings Data')\r\n",
    "plt.xlabel('Period')\r\n",
    "plt.ylabel('Earnings')\r\n",
    "plt.show()\r\n",
    "\r\n",
    "fig = px.line(df2, y=\"earnings\")\r\n",
    "fig.update_layout(title=f'Sum', xaxis_title='date', yaxis_title='earnings', width=960)\r\n",
    "fig.show()"
   ]
  },
  {
   "cell_type": "code",
   "execution_count": null,
   "metadata": {},
   "outputs": [],
   "source": [
    "df3 = df2['earnings'].values"
   ]
  },
  {
   "cell_type": "code",
   "execution_count": null,
   "metadata": {},
   "outputs": [],
   "source": [
    "fig = px.line(df3, y=0)\r\n",
    "fig.update_layout(title=f'Sum', xaxis_title='date', yaxis_title='earnings', width=960)\r\n",
    "fig.show()"
   ]
  },
  {
   "cell_type": "code",
   "execution_count": null,
   "metadata": {},
   "outputs": [],
   "source": [
    "#import torch, gc\n",
    "#gc.collect()\n",
    "#torch.cuda.empty_cache()"
   ]
  },
  {
   "cell_type": "code",
   "execution_count": null,
   "metadata": {},
   "outputs": [],
   "source": [
    "device = torch.device('cuda' if torch.cuda.is_available() else 'cpu')\n",
    "device"
   ]
  },
  {
   "cell_type": "code",
   "execution_count": null,
   "metadata": {},
   "outputs": [],
   "source": [
    "import numpy as np\r\n",
    "seq_test = torch.FloatTensor(np.array([i for i in range(10)]))\r\n",
    "print(seq_test)\r\n",
    "win, lookahead = 3, 4\r\n",
    "\r\n",
    "overlap = []\r\n",
    "for i in reversed(range(1, lookahead+1)):\r\n",
    "    print(i, seq_test[-win-i:-i])\r\n",
    "    overlap.append(float(i))\r\n",
    "\r\n",
    "print('overlap:', overlap)\r\n",
    "\r\n",
    "test_inputs = list(seq_test[-win:].numpy())\r\n",
    "print('prediction:', test_inputs)\r\n",
    "for i in range(lookahead):\r\n",
    "    print(i, test_inputs[-win:])\r\n",
    "    test_inputs.append(float(i))\r\n",
    "\r\n",
    "print(test_inputs)\r\n",
    "print(test_inputs[-lookahead:])\r\n"
   ]
  },
  {
   "cell_type": "code",
   "execution_count": null,
   "metadata": {},
   "outputs": [],
   "source": [
    "\n",
    "def predict(seq: torch.Tensor, window: int, lookbehind: int, lookahead: int) -> List:\n",
    "    overlap = []\n",
    "    predixn = list(seq[-window:].numpy())\n",
    "    with torch.no_grad():\n",
    "        model.to(device)\n",
    "        model.eval()\n",
    "        # get previous lookahead period (overlap)\n",
    "        for i in reversed(range(1, lookbehind+1)):\n",
    "            x = torch.FloatTensor(seq[-window-i:-i]).view(1, -1)\n",
    "            y = model(x.to(device))\n",
    "            overlap.append(y.detach().cpu().item())\n",
    "\n",
    "        # begin future lookahead period (predictions)\n",
    "        for i in range(lookahead):\n",
    "            x = torch.FloatTensor(predixn[-window:]).view(1, -1)\n",
    "            y = model(x.to(device))\n",
    "            predixn.append(y.detach().cpu().item())\n",
    "\n",
    "    return overlap + predixn[-lookahead:]"
   ]
  },
  {
   "cell_type": "code",
   "execution_count": null,
   "metadata": {},
   "outputs": [],
   "source": [
    "#p_seq = predict(seq_adj, meta['data']['window'], behind, forward)\r\n",
    "p_seq = model.predict(list(seq_adj.numpy()), meta['data']['window'], behind, forward)"
   ]
  },
  {
   "cell_type": "code",
   "execution_count": null,
   "metadata": {},
   "outputs": [],
   "source": [
    "dmin, dmax = meta['data']['min'], meta['data']['max']\r\n",
    "actual = SeqDataset.inverse_scale(seq_adj, dmin, dmax)\r\n",
    "predicted = SeqDataset.inverse_scale(torch.FloatTensor(p_seq), dmin, dmax)\r\n",
    "\r\n",
    "\r\n",
    "seq_size = seq_adj.size(0)\r\n",
    "actual_range = [i for i in range(seq_size)]\r\n",
    "pr = (seq_size-behind-1,seq_size+forward-1)\r\n",
    "pred_range = [i for i in range(pr[0], pr[1])]\r\n",
    "print(f'bd/fwd:        {behind}/{forward}')\r\n",
    "print(f'seq sz:        {seq_size}')\r\n",
    "print(f'seq range:     {range(seq_size)}, max: {actual_range[-1]}')\r\n",
    "print(f'pred sz:       {predicted.size(0)}')\r\n",
    "print(f'pred range:    {range(pr[0], pr[1])}, max: {pred_range[-1]}, min: {pred_range[0]}')\r\n",
    "print(f'pred range sz: {pr[1] - pr[0]}')\r\n",
    "\r\n"
   ]
  },
  {
   "cell_type": "code",
   "execution_count": null,
   "metadata": {},
   "outputs": [],
   "source": [
    "\r\n",
    "fig = go.Figure()\r\n",
    "fig.add_trace(go.Scatter(x=actual_range, y=actual.numpy(), mode='lines', name='Actual'))\r\n",
    "fig.add_trace(go.Scatter(x=pred_range, y=predicted.numpy(), mode='lines', name='Prediction'))\r\n",
    "fig.update_layout(title=f'Earnings Prediction',\r\n",
    "                   xaxis_title='Day',\r\n",
    "                   yaxis_title='Scaled Price', width=960)\r\n",
    "fig.show()"
   ]
  },
  {
   "cell_type": "code",
   "execution_count": null,
   "metadata": {},
   "outputs": [],
   "source": [
    "import matplotlib.pyplot as plt\r\n",
    "import matplotlib.ticker as tick\r\n",
    "\r\n",
    "seq_size = seq_adj.size(0)\r\n",
    "actual_range = [i for i in range(seq_size)]\r\n",
    "pred_range = [i for i in range(seq_size-behind,seq_size+forward)]\r\n",
    "\r\n",
    "dmin, dmax = meta['data']['min'], meta['data']['max']\r\n",
    "actual = SeqDataset.inverse_scale(seq_adj, dmin, dmax)\r\n",
    "predicted = SeqDataset.inverse_scale(torch.FloatTensor(p_seq), dmin, dmax)\r\n",
    "\r\n",
    "fig, ax = plt.subplots(figsize=(1600/96., 600/96.))\r\n",
    "ax.plot(actual_range, actual, color='blue', label='actual')\r\n",
    "ax.plot(pred_range, predicted, color='red', label='predictions')\r\n",
    "ax.yaxis.set_major_formatter(tick.FuncFormatter(lambda x, p: '${:1.0f}K'.format(x/1000.)))\r\n",
    "leg = ax.legend()\r\n",
    "plt.title(f'Sequence Prediction [Back: {behind}, Forward: {forward}]')\r\n",
    "plt.xlabel('Period')\r\n",
    "plt.ylabel('Earnings')\r\n",
    "plt.show()\r\n"
   ]
  },
  {
   "cell_type": "code",
   "execution_count": null,
   "metadata": {},
   "outputs": [],
   "source": []
  }
 ],
 "metadata": {
  "kernelspec": {
   "display_name": "Python 3.8.8 64-bit ('torch': conda)",
   "name": "python388jvsc74a57bd0d412cf0cc95275da7f3e5a2cde727869a6beaae6991f4cbb39a087a6b0868edc"
  },
  "language_info": {
   "codemirror_mode": {
    "name": "ipython",
    "version": 3
   },
   "file_extension": ".py",
   "mimetype": "text/x-python",
   "name": "python",
   "nbconvert_exporter": "python",
   "pygments_lexer": "ipython3",
   "version": "3.8.8"
  },
  "metadata": {
   "interpreter": {
    "hash": "d412cf0cc95275da7f3e5a2cde727869a6beaae6991f4cbb39a087a6b0868edc"
   }
  },
  "orig_nbformat": 2
 },
 "nbformat": 4,
 "nbformat_minor": 2
}