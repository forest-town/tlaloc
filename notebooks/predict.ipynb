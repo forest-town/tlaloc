{
 "metadata": {
  "language_info": {
   "codemirror_mode": {
    "name": "ipython",
    "version": 3
   },
   "file_extension": ".py",
   "mimetype": "text/x-python",
   "name": "python",
   "nbconvert_exporter": "python",
   "pygments_lexer": "ipython3",
   "version": "3.8.8-final"
  },
  "orig_nbformat": 2,
  "kernelspec": {
   "name": "python38164bittorchcondadd711ca68ad04861aabbde1fbd726c82",
   "display_name": "Python 3.8.8 64-bit ('torch': conda)"
  },
  "metadata": {
   "interpreter": {
    "hash": "d412cf0cc95275da7f3e5a2cde727869a6beaae6991f4cbb39a087a6b0868edc"
   }
  }
 },
 "nbformat": 4,
 "nbformat_minor": 2,
 "cells": [
  {
   "cell_type": "code",
   "execution_count": 1,
   "metadata": {},
   "outputs": [],
   "source": [
    "import sys\n",
    "import json\n",
    "import torch\n",
    "from pathlib import Path\n",
    "import tensorboardX\n",
    "from typing import List\n",
    "import plotly.express as px\n",
    "import plotly.graph_objects as go\n",
    "\n",
    "# import locals\n",
    "sys.path.insert(0, str(Path('..').resolve()))\n",
    "from tlaloc import StockDataModule, SeqDataset\n",
    "from tlaloc import StockGRUModel\n",
    "%matplotlib inline"
   ]
  },
  {
   "cell_type": "code",
   "execution_count": 2,
   "metadata": {},
   "outputs": [],
   "source": [
    "trnsf_path = Path('../output/models/params.json').resolve()\n",
    "model_path = Path('../output/models/model.pth').resolve()\n",
    "\n",
    "behind = 100\n",
    "forward = 5"
   ]
  },
  {
   "cell_type": "code",
   "execution_count": 3,
   "metadata": {},
   "outputs": [
    {
     "output_type": "stream",
     "name": "stdout",
     "text": [
      "{\n    \"stock\": \"MSFT\",\n    \"model\": {\n        \"input_dim\": 1,\n        \"hidden_dim\": 32,\n        \"num_layers\": 2,\n        \"output_dim\": 1,\n        \"lr\": 0.01\n    },\n    \"data\": {\n        \"min\": 48.43,\n        \"max\": 260.73999,\n        \"window\": 100\n    }\n}\n"
     ]
    }
   ],
   "source": [
    "with open(trnsf_path, 'r') as f:\n",
    "    meta = json.load(f)\n",
    "print(json.dumps(meta, indent=4))"
   ]
  },
  {
   "cell_type": "code",
   "execution_count": 4,
   "metadata": {},
   "outputs": [
    {
     "output_type": "execute_result",
     "data": {
      "text/plain": [
       "<All keys matched successfully>"
      ]
     },
     "metadata": {},
     "execution_count": 4
    }
   ],
   "source": [
    "model = StockGRUModel(**meta['model'])\n",
    "model.load_state_dict(torch.load(model_path))"
   ]
  },
  {
   "cell_type": "code",
   "execution_count": 5,
   "metadata": {},
   "outputs": [],
   "source": [
    "msft = StockDataModule.get_stock_data('../data', meta['stock'])\n",
    "seq = torch.FloatTensor(msft['Close'].values)[-behind*2:]\n",
    "seq_adj = SeqDataset.scale(seq, meta['data']['min'], meta['data']['max'])"
   ]
  },
  {
   "cell_type": "code",
   "execution_count": 6,
   "metadata": {},
   "outputs": [],
   "source": [
    "#import torch, gc\n",
    "#gc.collect()\n",
    "#torch.cuda.empty_cache()"
   ]
  },
  {
   "cell_type": "code",
   "execution_count": 7,
   "metadata": {},
   "outputs": [
    {
     "output_type": "execute_result",
     "data": {
      "text/plain": [
       "device(type='cuda')"
      ]
     },
     "metadata": {},
     "execution_count": 7
    }
   ],
   "source": [
    "device = torch.device('cuda' if torch.cuda.is_available() else 'cpu')\n",
    "device"
   ]
  },
  {
   "cell_type": "code",
   "execution_count": 8,
   "metadata": {},
   "outputs": [
    {
     "output_type": "stream",
     "name": "stdout",
     "text": [
      "tensor([0., 1., 2., 3., 4., 5., 6., 7., 8., 9.])\n4 tensor([3., 4., 5.])\n3 tensor([4., 5., 6.])\n2 tensor([5., 6., 7.])\n1 tensor([6., 7., 8.])\noverlap: [4.0, 3.0, 2.0, 1.0]\nprediction: [7.0, 8.0, 9.0]\n0 [7.0, 8.0, 9.0]\n1 [8.0, 9.0, 0.0]\n2 [9.0, 0.0, 1.0]\n3 [0.0, 1.0, 2.0]\n[7.0, 8.0, 9.0, 0.0, 1.0, 2.0, 3.0]\n[0.0, 1.0, 2.0, 3.0]\n"
     ]
    }
   ],
   "source": [
    "import numpy as np\n",
    "seq_test = torch.FloatTensor(np.array([i for i in range(10)]))\n",
    "print(seq_test)\n",
    "win, lookahead = 3, 4\n",
    "\n",
    "\n",
    "overlap = []\n",
    "\n",
    "for i in reversed(range(1, lookahead+1)):\n",
    "    print(i, seq_test[-win-i:-i])\n",
    "    overlap.append(float(i))\n",
    "\n",
    "print('overlap:', overlap)\n",
    "\n",
    "test_inputs = list(seq_test[-win:].numpy())\n",
    "print('prediction:', test_inputs)\n",
    "for i in range(lookahead):\n",
    "    print(i, test_inputs[-win:])\n",
    "    test_inputs.append(float(i))\n",
    "\n",
    "print(test_inputs)\n",
    "print(test_inputs[-lookahead:])\n"
   ]
  },
  {
   "cell_type": "code",
   "execution_count": 9,
   "metadata": {},
   "outputs": [],
   "source": [
    "\n",
    "def predict(seq: torch.Tensor, window: int, lookbehind: int, lookahead: int) -> List:\n",
    "    overlap = []\n",
    "    predixn = list(seq[-window:].numpy())\n",
    "    with torch.no_grad():\n",
    "        model.to(device)\n",
    "        model.eval()\n",
    "        # get previous lookahead period (overlap)\n",
    "        for i in reversed(range(1, lookbehind+1)):\n",
    "            x = torch.FloatTensor(seq[-window-i:-i]).view(1, -1)\n",
    "            y = model(x.to(device))\n",
    "            overlap.append(y.detach().cpu().item())\n",
    "\n",
    "        # begin future lookahead period (predictions)\n",
    "        for i in range(lookahead):\n",
    "            x = torch.FloatTensor(predixn[-window:]).view(1, -1)\n",
    "            y = model(x.to(device))\n",
    "            predixn.append(y.detach().cpu().item())\n",
    "\n",
    "    return overlap + predixn[-lookahead:]"
   ]
  },
  {
   "cell_type": "code",
   "execution_count": 10,
   "metadata": {},
   "outputs": [],
   "source": [
    "\n",
    "p_seq = predict(seq_adj, meta['data']['window'], behind, forward)"
   ]
  },
  {
   "cell_type": "code",
   "execution_count": 11,
   "metadata": {},
   "outputs": [
    {
     "output_type": "stream",
     "name": "stdout",
     "text": [
      "200 100 205\n"
     ]
    }
   ],
   "source": [
    "seq_size = seq_adj.size(0)\n",
    "actual_range = [i for i in range(seq_size)]\n",
    "pred_range = [i for i in range(seq_size-behind,seq_size+forward)]\n",
    "print(seq_size, seq_size-behind, seq_size+forward)"
   ]
  },
  {
   "cell_type": "code",
   "execution_count": 12,
   "metadata": {},
   "outputs": [
    {
     "output_type": "display_data",
     "data": {
      "application/vnd.plotly.v1+json": {
       "config": {
        "plotlyServerURL": "https://plot.ly"
       },
       "data": [
        {
         "mode": "lines",
         "name": "Actual",
         "type": "scatter",
         "x": [
          0,
          1,
          2,
          3,
          4,
          5,
          6,
          7,
          8,
          9,
          10,
          11,
          12,
          13,
          14,
          15,
          16,
          17,
          18,
          19,
          20,
          21,
          22,
          23,
          24,
          25,
          26,
          27,
          28,
          29,
          30,
          31,
          32,
          33,
          34,
          35,
          36,
          37,
          38,
          39,
          40,
          41,
          42,
          43,
          44,
          45,
          46,
          47,
          48,
          49,
          50,
          51,
          52,
          53,
          54,
          55,
          56,
          57,
          58,
          59,
          60,
          61,
          62,
          63,
          64,
          65,
          66,
          67,
          68,
          69,
          70,
          71,
          72,
          73,
          74,
          75,
          76,
          77,
          78,
          79,
          80,
          81,
          82,
          83,
          84,
          85,
          86,
          87,
          88,
          89,
          90,
          91,
          92,
          93,
          94,
          95,
          96,
          97,
          98,
          99,
          100,
          101,
          102,
          103,
          104,
          105,
          106,
          107,
          108,
          109,
          110,
          111,
          112,
          113,
          114,
          115,
          116,
          117,
          118,
          119,
          120,
          121,
          122,
          123,
          124,
          125,
          126,
          127,
          128,
          129,
          130,
          131,
          132,
          133,
          134,
          135,
          136,
          137,
          138,
          139,
          140,
          141,
          142,
          143,
          144,
          145,
          146,
          147,
          148,
          149,
          150,
          151,
          152,
          153,
          154,
          155,
          156,
          157,
          158,
          159,
          160,
          161,
          162,
          163,
          164,
          165,
          166,
          167,
          168,
          169,
          170,
          171,
          172,
          173,
          174,
          175,
          176,
          177,
          178,
          179,
          180,
          181,
          182,
          183,
          184,
          185,
          186,
          187,
          188,
          189,
          190,
          191,
          192,
          193,
          194,
          195,
          196,
          197,
          198,
          199
         ],
         "y": [
          210.69998168945312,
          208.25,
          212.82998657226562,
          214.32000732421875,
          213.66998291015625,
          207.07000732421875,
          208.35000610351562,
          208.03997802734375,
          203.91998291015625,
          202.8800048828125,
          211.60000610351562,
          208.75,
          211.75,
          202.53997802734375,
          201.29998779296875,
          203.85000610351562,
          202.01998901367188,
          204.05999755859375,
          203.89999389648438,
          205.00997924804688,
          216.53997802734375,
          213.28997802734375,
          212.94000244140625,
          216.35000610351562,
          212.47998046875,
          208.25,
          203.3800048828125,
          209.19000244140625,
          208.69998168945312,
          208.89999389648438,
          210.27999877929688,
          211.489990234375,
          209.69998168945312,
          214.57998657226562,
          213.01998901367188,
          213.69000244140625,
          216.47000122070312,
          221.14999389648438,
          226.57998657226562,
          228.91000366210938,
          225.52999877929688,
          227.26998901367188,
          231.64999389648438,
          217.29998779296875,
          214.25,
          202.66000366210938,
          211.28997802734375,
          205.3699951171875,
          204.02999877929688,
          205.41000366210938,
          208.77999877929688,
          205.04998779296875,
          202.91000366210938,
          200.38998413085938,
          202.53997802734375,
          207.41998291015625,
          200.58999633789062,
          203.19000244140625,
          207.82000732421875,
          209.44000244140625,
          207.25997924804688,
          210.32998657226562,
          212.45999145507812,
          206.19000244140625,
          210.3800048828125,
          205.91000366210938,
          209.82998657226562,
          210.57998657226562,
          215.80999755859375,
          221.39999389648438,
          222.8599853515625,
          220.8599853515625,
          219.66000366210938,
          219.66000366210938,
          214.22000122070312,
          214.64999389648438,
          214.79998779296875,
          214.88998413085938,
          216.22998046875,
          210.07998657226562,
          213.25,
          202.67999267578125,
          204.72000122070312,
          202.47000122070312,
          202.32998657226562,
          206.42999267578125,
          216.38998413085938,
          223.28997802734375,
          223.72000122070312,
          218.38998413085938,
          211.00997924804688,
          216.54998779296875,
          215.44000244140625,
          216.50997924804688,
          217.22998046875,
          214.45999145507812,
          211.07998657226562,
          212.41998291015625,
          210.38998413085938,
          210.1099853515625,
          213.8599853515625,
          213.8699951171875,
          215.22998046875,
          214.07000732421875,
          216.20999145507812,
          215.3699951171875,
          214.239990234375,
          214.3599853515625,
          214.28997802734375,
          216.00997924804688,
          211.79998779296875,
          210.51998901367188,
          213.25997924804688,
          214.19998168945312,
          214.1300048828125,
          219.27999877929688,
          219.41998291015625,
          218.58999633789062,
          222.58999633789062,
          223.94000244140625,
          221.01998901367188,
          222.75,
          224.95999145507812,
          224.14999389648438,
          221.67999267578125,
          222.41998291015625,
          217.69000244140625,
          217.89999389648438,
          212.25,
          218.28997802734375,
          219.6199951171875,
          217.489990234375,
          214.92999267578125,
          216.33999633789062,
          213.01998901367188,
          212.64999389648438,
          216.44000244140625,
          224.33999633789062,
          224.97000122070312,
          225.94998168945312,
          229.52999877929688,
          232.32998657226562,
          232.89999389648438,
          238.92999267578125,
          231.95999145507812,
          239.64999389648438,
          239.50997924804688,
          243,
          242.00997924804688,
          242.19998168945312,
          242.47000122070312,
          243.76998901367188,
          242.82000732421875,
          244.489990234375,
          244.989990234375,
          243.69998168945312,
          244.19998168945312,
          243.78997802734375,
          240.97000122070312,
          234.50997924804688,
          233.26998901367188,
          234.54998779296875,
          228.989990234375,
          232.3800048828125,
          236.94000244140625,
          233.8699951171875,
          227.55999755859375,
          226.72998046875,
          231.60000610351562,
          227.38998413085938,
          233.77999877929688,
          232.41998291015625,
          237.1300048828125,
          235.75,
          234.80999755859375,
          237.70999145507812,
          237.03997802734375,
          230.72000122070312,
          230.35000610351562,
          235.989990234375,
          237.57998657226562,
          235.45999145507812,
          232.33999633789062,
          236.47998046875,
          235.239990234375,
          231.85000610351562,
          235.76998901367188,
          242.35000610351562,
          249.07000732421875,
          247.8599853515625,
          249.89999389648438,
          253.25,
          255.85000610351562,
          255.91000366210938,
          258.489990234375,
          255.58999633789062,
          259.5,
          260.739990234375,
          258.739990234375,
          258.260009765625
         ]
        },
        {
         "mode": "lines",
         "name": "Prediction",
         "type": "scatter",
         "x": [
          100,
          101,
          102,
          103,
          104,
          105,
          106,
          107,
          108,
          109,
          110,
          111,
          112,
          113,
          114,
          115,
          116,
          117,
          118,
          119,
          120,
          121,
          122,
          123,
          124,
          125,
          126,
          127,
          128,
          129,
          130,
          131,
          132,
          133,
          134,
          135,
          136,
          137,
          138,
          139,
          140,
          141,
          142,
          143,
          144,
          145,
          146,
          147,
          148,
          149,
          150,
          151,
          152,
          153,
          154,
          155,
          156,
          157,
          158,
          159,
          160,
          161,
          162,
          163,
          164,
          165,
          166,
          167,
          168,
          169,
          170,
          171,
          172,
          173,
          174,
          175,
          176,
          177,
          178,
          179,
          180,
          181,
          182,
          183,
          184,
          185,
          186,
          187,
          188,
          189,
          190,
          191,
          192,
          193,
          194,
          195,
          196,
          197,
          198,
          199,
          200,
          201,
          202,
          203,
          204
         ],
         "y": [
          211.50723266601562,
          213.41189575195312,
          214.5860595703125,
          215.8095703125,
          215.6766357421875,
          216.72750854492188,
          216.86395263671875,
          216.16156005859375,
          215.826171875,
          215.68826293945312,
          216.66769409179688,
          214.7412109375,
          212.74929809570312,
          213.48898315429688,
          214.70773315429688,
          215.25180053710938,
          218.40982055664062,
          220.2034912109375,
          220.37405395507812,
          222.57205200195312,
          224.5631103515625,
          223.79425048828125,
          224.14688110351562,
          225.69461059570312,
          226.07135009765625,
          224.72927856445312,
          224.37716674804688,
          221.65225219726562,
          220.291748046875,
          216.5164794921875,
          218.08297729492188,
          220.13864135742188,
          219.84451293945312,
          217.92196655273438,
          217.70599365234375,
          215.86361694335938,
          214.6153564453125,
          216.35665893554688,
          221.997314453125,
          225.24929809570312,
          226.94451904296875,
          229.50869750976562,
          232.26742553710938,
          233.82089233398438,
          237.5323486328125,
          235.77059936523438,
          238.4912109375,
          240.05169677734375,
          242.36431884765625,
          242.94415283203125,
          243.15176391601562,
          243.37301635742188,
          244.1348876953125,
          244.05706787109375,
          244.776611328125,
          245.40777587890625,
          245.04376220703125,
          245.05746459960938,
          244.91232299804688,
          243.45733642578125,
          239.451416015625,
          236.84259033203125,
          236.52154541015625,
          233.63760375976562,
          233.8931884765625,
          236.6671142578125,
          236.48452758789062,
          232.73052978515625,
          230.2821044921875,
          232.00436401367188,
          230.896728515625,
          233.5076904296875,
          234.27554321289062,
          236.86813354492188,
          237.45114135742188,
          237.03271484375,
          238.27764892578125,
          238.65081787109375,
          235.44390869140625,
          233.50717163085938,
          235.79205322265625,
          237.98678588867188,
          237.79971313476562,
          235.84994506835938,
          237.02130126953125,
          237.20571899414062,
          235.41070556640625,
          236.49276733398438,
          240.58224487304688,
          245.832275390625,
          247.53369140625,
          248.91641235351562,
          251.071044921875,
          253.24917602539062,
          254.20175170898438,
          255.66848754882812,
          255.06069946289062,
          256.4074401855469,
          257.672607421875,
          257.3228759765625,
          256.8627014160156,
          256.0769348144531,
          255.39791870117188,
          254.83126831054688,
          254.35333251953125
         ]
        }
       ],
       "layout": {
        "template": {
         "data": {
          "bar": [
           {
            "error_x": {
             "color": "#2a3f5f"
            },
            "error_y": {
             "color": "#2a3f5f"
            },
            "marker": {
             "line": {
              "color": "#E5ECF6",
              "width": 0.5
             }
            },
            "type": "bar"
           }
          ],
          "barpolar": [
           {
            "marker": {
             "line": {
              "color": "#E5ECF6",
              "width": 0.5
             }
            },
            "type": "barpolar"
           }
          ],
          "carpet": [
           {
            "aaxis": {
             "endlinecolor": "#2a3f5f",
             "gridcolor": "white",
             "linecolor": "white",
             "minorgridcolor": "white",
             "startlinecolor": "#2a3f5f"
            },
            "baxis": {
             "endlinecolor": "#2a3f5f",
             "gridcolor": "white",
             "linecolor": "white",
             "minorgridcolor": "white",
             "startlinecolor": "#2a3f5f"
            },
            "type": "carpet"
           }
          ],
          "choropleth": [
           {
            "colorbar": {
             "outlinewidth": 0,
             "ticks": ""
            },
            "type": "choropleth"
           }
          ],
          "contour": [
           {
            "colorbar": {
             "outlinewidth": 0,
             "ticks": ""
            },
            "colorscale": [
             [
              0,
              "#0d0887"
             ],
             [
              0.1111111111111111,
              "#46039f"
             ],
             [
              0.2222222222222222,
              "#7201a8"
             ],
             [
              0.3333333333333333,
              "#9c179e"
             ],
             [
              0.4444444444444444,
              "#bd3786"
             ],
             [
              0.5555555555555556,
              "#d8576b"
             ],
             [
              0.6666666666666666,
              "#ed7953"
             ],
             [
              0.7777777777777778,
              "#fb9f3a"
             ],
             [
              0.8888888888888888,
              "#fdca26"
             ],
             [
              1,
              "#f0f921"
             ]
            ],
            "type": "contour"
           }
          ],
          "contourcarpet": [
           {
            "colorbar": {
             "outlinewidth": 0,
             "ticks": ""
            },
            "type": "contourcarpet"
           }
          ],
          "heatmap": [
           {
            "colorbar": {
             "outlinewidth": 0,
             "ticks": ""
            },
            "colorscale": [
             [
              0,
              "#0d0887"
             ],
             [
              0.1111111111111111,
              "#46039f"
             ],
             [
              0.2222222222222222,
              "#7201a8"
             ],
             [
              0.3333333333333333,
              "#9c179e"
             ],
             [
              0.4444444444444444,
              "#bd3786"
             ],
             [
              0.5555555555555556,
              "#d8576b"
             ],
             [
              0.6666666666666666,
              "#ed7953"
             ],
             [
              0.7777777777777778,
              "#fb9f3a"
             ],
             [
              0.8888888888888888,
              "#fdca26"
             ],
             [
              1,
              "#f0f921"
             ]
            ],
            "type": "heatmap"
           }
          ],
          "heatmapgl": [
           {
            "colorbar": {
             "outlinewidth": 0,
             "ticks": ""
            },
            "colorscale": [
             [
              0,
              "#0d0887"
             ],
             [
              0.1111111111111111,
              "#46039f"
             ],
             [
              0.2222222222222222,
              "#7201a8"
             ],
             [
              0.3333333333333333,
              "#9c179e"
             ],
             [
              0.4444444444444444,
              "#bd3786"
             ],
             [
              0.5555555555555556,
              "#d8576b"
             ],
             [
              0.6666666666666666,
              "#ed7953"
             ],
             [
              0.7777777777777778,
              "#fb9f3a"
             ],
             [
              0.8888888888888888,
              "#fdca26"
             ],
             [
              1,
              "#f0f921"
             ]
            ],
            "type": "heatmapgl"
           }
          ],
          "histogram": [
           {
            "marker": {
             "colorbar": {
              "outlinewidth": 0,
              "ticks": ""
             }
            },
            "type": "histogram"
           }
          ],
          "histogram2d": [
           {
            "colorbar": {
             "outlinewidth": 0,
             "ticks": ""
            },
            "colorscale": [
             [
              0,
              "#0d0887"
             ],
             [
              0.1111111111111111,
              "#46039f"
             ],
             [
              0.2222222222222222,
              "#7201a8"
             ],
             [
              0.3333333333333333,
              "#9c179e"
             ],
             [
              0.4444444444444444,
              "#bd3786"
             ],
             [
              0.5555555555555556,
              "#d8576b"
             ],
             [
              0.6666666666666666,
              "#ed7953"
             ],
             [
              0.7777777777777778,
              "#fb9f3a"
             ],
             [
              0.8888888888888888,
              "#fdca26"
             ],
             [
              1,
              "#f0f921"
             ]
            ],
            "type": "histogram2d"
           }
          ],
          "histogram2dcontour": [
           {
            "colorbar": {
             "outlinewidth": 0,
             "ticks": ""
            },
            "colorscale": [
             [
              0,
              "#0d0887"
             ],
             [
              0.1111111111111111,
              "#46039f"
             ],
             [
              0.2222222222222222,
              "#7201a8"
             ],
             [
              0.3333333333333333,
              "#9c179e"
             ],
             [
              0.4444444444444444,
              "#bd3786"
             ],
             [
              0.5555555555555556,
              "#d8576b"
             ],
             [
              0.6666666666666666,
              "#ed7953"
             ],
             [
              0.7777777777777778,
              "#fb9f3a"
             ],
             [
              0.8888888888888888,
              "#fdca26"
             ],
             [
              1,
              "#f0f921"
             ]
            ],
            "type": "histogram2dcontour"
           }
          ],
          "mesh3d": [
           {
            "colorbar": {
             "outlinewidth": 0,
             "ticks": ""
            },
            "type": "mesh3d"
           }
          ],
          "parcoords": [
           {
            "line": {
             "colorbar": {
              "outlinewidth": 0,
              "ticks": ""
             }
            },
            "type": "parcoords"
           }
          ],
          "pie": [
           {
            "automargin": true,
            "type": "pie"
           }
          ],
          "scatter": [
           {
            "marker": {
             "colorbar": {
              "outlinewidth": 0,
              "ticks": ""
             }
            },
            "type": "scatter"
           }
          ],
          "scatter3d": [
           {
            "line": {
             "colorbar": {
              "outlinewidth": 0,
              "ticks": ""
             }
            },
            "marker": {
             "colorbar": {
              "outlinewidth": 0,
              "ticks": ""
             }
            },
            "type": "scatter3d"
           }
          ],
          "scattercarpet": [
           {
            "marker": {
             "colorbar": {
              "outlinewidth": 0,
              "ticks": ""
             }
            },
            "type": "scattercarpet"
           }
          ],
          "scattergeo": [
           {
            "marker": {
             "colorbar": {
              "outlinewidth": 0,
              "ticks": ""
             }
            },
            "type": "scattergeo"
           }
          ],
          "scattergl": [
           {
            "marker": {
             "colorbar": {
              "outlinewidth": 0,
              "ticks": ""
             }
            },
            "type": "scattergl"
           }
          ],
          "scattermapbox": [
           {
            "marker": {
             "colorbar": {
              "outlinewidth": 0,
              "ticks": ""
             }
            },
            "type": "scattermapbox"
           }
          ],
          "scatterpolar": [
           {
            "marker": {
             "colorbar": {
              "outlinewidth": 0,
              "ticks": ""
             }
            },
            "type": "scatterpolar"
           }
          ],
          "scatterpolargl": [
           {
            "marker": {
             "colorbar": {
              "outlinewidth": 0,
              "ticks": ""
             }
            },
            "type": "scatterpolargl"
           }
          ],
          "scatterternary": [
           {
            "marker": {
             "colorbar": {
              "outlinewidth": 0,
              "ticks": ""
             }
            },
            "type": "scatterternary"
           }
          ],
          "surface": [
           {
            "colorbar": {
             "outlinewidth": 0,
             "ticks": ""
            },
            "colorscale": [
             [
              0,
              "#0d0887"
             ],
             [
              0.1111111111111111,
              "#46039f"
             ],
             [
              0.2222222222222222,
              "#7201a8"
             ],
             [
              0.3333333333333333,
              "#9c179e"
             ],
             [
              0.4444444444444444,
              "#bd3786"
             ],
             [
              0.5555555555555556,
              "#d8576b"
             ],
             [
              0.6666666666666666,
              "#ed7953"
             ],
             [
              0.7777777777777778,
              "#fb9f3a"
             ],
             [
              0.8888888888888888,
              "#fdca26"
             ],
             [
              1,
              "#f0f921"
             ]
            ],
            "type": "surface"
           }
          ],
          "table": [
           {
            "cells": {
             "fill": {
              "color": "#EBF0F8"
             },
             "line": {
              "color": "white"
             }
            },
            "header": {
             "fill": {
              "color": "#C8D4E3"
             },
             "line": {
              "color": "white"
             }
            },
            "type": "table"
           }
          ]
         },
         "layout": {
          "annotationdefaults": {
           "arrowcolor": "#2a3f5f",
           "arrowhead": 0,
           "arrowwidth": 1
          },
          "autotypenumbers": "strict",
          "coloraxis": {
           "colorbar": {
            "outlinewidth": 0,
            "ticks": ""
           }
          },
          "colorscale": {
           "diverging": [
            [
             0,
             "#8e0152"
            ],
            [
             0.1,
             "#c51b7d"
            ],
            [
             0.2,
             "#de77ae"
            ],
            [
             0.3,
             "#f1b6da"
            ],
            [
             0.4,
             "#fde0ef"
            ],
            [
             0.5,
             "#f7f7f7"
            ],
            [
             0.6,
             "#e6f5d0"
            ],
            [
             0.7,
             "#b8e186"
            ],
            [
             0.8,
             "#7fbc41"
            ],
            [
             0.9,
             "#4d9221"
            ],
            [
             1,
             "#276419"
            ]
           ],
           "sequential": [
            [
             0,
             "#0d0887"
            ],
            [
             0.1111111111111111,
             "#46039f"
            ],
            [
             0.2222222222222222,
             "#7201a8"
            ],
            [
             0.3333333333333333,
             "#9c179e"
            ],
            [
             0.4444444444444444,
             "#bd3786"
            ],
            [
             0.5555555555555556,
             "#d8576b"
            ],
            [
             0.6666666666666666,
             "#ed7953"
            ],
            [
             0.7777777777777778,
             "#fb9f3a"
            ],
            [
             0.8888888888888888,
             "#fdca26"
            ],
            [
             1,
             "#f0f921"
            ]
           ],
           "sequentialminus": [
            [
             0,
             "#0d0887"
            ],
            [
             0.1111111111111111,
             "#46039f"
            ],
            [
             0.2222222222222222,
             "#7201a8"
            ],
            [
             0.3333333333333333,
             "#9c179e"
            ],
            [
             0.4444444444444444,
             "#bd3786"
            ],
            [
             0.5555555555555556,
             "#d8576b"
            ],
            [
             0.6666666666666666,
             "#ed7953"
            ],
            [
             0.7777777777777778,
             "#fb9f3a"
            ],
            [
             0.8888888888888888,
             "#fdca26"
            ],
            [
             1,
             "#f0f921"
            ]
           ]
          },
          "colorway": [
           "#636efa",
           "#EF553B",
           "#00cc96",
           "#ab63fa",
           "#FFA15A",
           "#19d3f3",
           "#FF6692",
           "#B6E880",
           "#FF97FF",
           "#FECB52"
          ],
          "font": {
           "color": "#2a3f5f"
          },
          "geo": {
           "bgcolor": "white",
           "lakecolor": "white",
           "landcolor": "#E5ECF6",
           "showlakes": true,
           "showland": true,
           "subunitcolor": "white"
          },
          "hoverlabel": {
           "align": "left"
          },
          "hovermode": "closest",
          "mapbox": {
           "style": "light"
          },
          "paper_bgcolor": "white",
          "plot_bgcolor": "#E5ECF6",
          "polar": {
           "angularaxis": {
            "gridcolor": "white",
            "linecolor": "white",
            "ticks": ""
           },
           "bgcolor": "#E5ECF6",
           "radialaxis": {
            "gridcolor": "white",
            "linecolor": "white",
            "ticks": ""
           }
          },
          "scene": {
           "xaxis": {
            "backgroundcolor": "#E5ECF6",
            "gridcolor": "white",
            "gridwidth": 2,
            "linecolor": "white",
            "showbackground": true,
            "ticks": "",
            "zerolinecolor": "white"
           },
           "yaxis": {
            "backgroundcolor": "#E5ECF6",
            "gridcolor": "white",
            "gridwidth": 2,
            "linecolor": "white",
            "showbackground": true,
            "ticks": "",
            "zerolinecolor": "white"
           },
           "zaxis": {
            "backgroundcolor": "#E5ECF6",
            "gridcolor": "white",
            "gridwidth": 2,
            "linecolor": "white",
            "showbackground": true,
            "ticks": "",
            "zerolinecolor": "white"
           }
          },
          "shapedefaults": {
           "line": {
            "color": "#2a3f5f"
           }
          },
          "ternary": {
           "aaxis": {
            "gridcolor": "white",
            "linecolor": "white",
            "ticks": ""
           },
           "baxis": {
            "gridcolor": "white",
            "linecolor": "white",
            "ticks": ""
           },
           "bgcolor": "#E5ECF6",
           "caxis": {
            "gridcolor": "white",
            "linecolor": "white",
            "ticks": ""
           }
          },
          "title": {
           "x": 0.05
          },
          "xaxis": {
           "automargin": true,
           "gridcolor": "white",
           "linecolor": "white",
           "ticks": "",
           "title": {
            "standoff": 15
           },
           "zerolinecolor": "white",
           "zerolinewidth": 2
          },
          "yaxis": {
           "automargin": true,
           "gridcolor": "white",
           "linecolor": "white",
           "ticks": "",
           "title": {
            "standoff": 15
           },
           "zerolinecolor": "white",
           "zerolinewidth": 2
          }
         }
        },
        "title": {
         "text": "Stock Prediction (MSFT)"
        },
        "xaxis": {
         "title": {
          "text": "Day"
         }
        },
        "yaxis": {
         "title": {
          "text": "Scaled Price"
         }
        }
       }
      }
     },
     "metadata": {}
    }
   ],
   "source": [
    "dmin, dmax = meta['data']['min'], meta['data']['max']\n",
    "actual = SeqDataset.inverse_scale(seq_adj, dmin, dmax)\n",
    "predicted = SeqDataset.inverse_scale(torch.FloatTensor(p_seq), dmin, dmax)\n",
    "fig = go.Figure()\n",
    "fig.add_trace(go.Scatter(x=actual_range, y=actual.numpy(), mode='lines', name='Actual'))\n",
    "fig.add_trace(go.Scatter(x=pred_range, y=predicted.numpy(), mode='lines', name='Prediction'))\n",
    "fig.update_layout(title=f'Stock Prediction ({meta[\"stock\"]})',\n",
    "                   xaxis_title='Day',\n",
    "                   yaxis_title='Scaled Price')\n",
    "fig.show()"
   ]
  },
  {
   "cell_type": "code",
   "execution_count": null,
   "metadata": {},
   "outputs": [],
   "source": []
  },
  {
   "cell_type": "code",
   "execution_count": null,
   "metadata": {},
   "outputs": [],
   "source": []
  }
 ]
}