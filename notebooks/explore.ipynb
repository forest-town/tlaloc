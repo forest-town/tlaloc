{
 "cells": [
  {
   "cell_type": "markdown",
   "metadata": {},
   "source": [
    "# Import Packages"
   ]
  },
  {
   "cell_type": "code",
   "execution_count": null,
   "metadata": {},
   "outputs": [],
   "source": [
    "import math\n",
    "import torch\n",
    "import itertools\n",
    "import numpy as np\n",
    "import pandas as pd\n",
    "from pathlib import Path\n",
    "from datetime import datetime\n",
    "import matplotlib.pyplot as plt\n",
    "import torch.profiler as profiler\n",
    "from tensorboardX import SummaryWriter\n",
    "import datetime\n",
    "import warnings\n",
    "from torch.utils.data import DataLoader\n",
    "from torch.utils.data.dataset import Dataset\n",
    "from typing import List, Tuple\n",
    "warnings.filterwarnings('ignore')"
   ]
  },
  {
   "cell_type": "markdown",
   "metadata": {},
   "source": [
    "# Retreive Data"
   ]
  },
  {
   "cell_type": "code",
   "execution_count": null,
   "metadata": {},
   "outputs": [],
   "source": [
    "parquet_file = '../data/D16.04.30G04.29.21.57.49.parquet'\n",
    "df_by_store = pd.read_parquet(parquet_file)\n",
    "df_by_store"
   ]
  },
  {
   "cell_type": "code",
   "execution_count": null,
   "metadata": {},
   "outputs": [],
   "source": [
    "writer = SummaryWriter('logs')"
   ]
  },
  {
   "cell_type": "code",
   "execution_count": null,
   "metadata": {},
   "outputs": [],
   "source": [
    "fig, ax = plt.subplots(figsize=(1600/96., 600/96.))\n",
    "for key, grp in df_by_store.groupby(['resource_id']):\n",
    "    ax = grp.plot(ax=ax, kind='line', x='date', y='earnings', label=key)\n",
    "leg = ax.legend()\n",
    "plt.title(f'Original Earnings Data')\n",
    "plt.xlabel('Period')\n",
    "plt.ylabel('Earnings')\n",
    "\n",
    "plt.savefig('logs/earnings_data.png')"
   ]
  },
  {
   "cell_type": "markdown",
   "metadata": {},
   "source": [
    "## Start with Aggregate Data"
   ]
  },
  {
   "cell_type": "code",
   "execution_count": null,
   "metadata": {
    "tags": []
   },
   "outputs": [],
   "source": [
    "# get cumulative earnings into sequence\n",
    "df_stores_total_daily = df_by_store.groupby(by=['date']).sum()['earnings'].reset_index()\n",
    "df_stores_total_daily.head()"
   ]
  },
  {
   "cell_type": "markdown",
   "metadata": {},
   "source": [
    "# Regression features"
   ]
  },
  {
   "cell_type": "code",
   "execution_count": null,
   "metadata": {},
   "outputs": [],
   "source": [
    "df_stores_total_daily['Year'] = pd.to_datetime(df_stores_total_daily['date']).dt.year\n",
    "df_stores_total_daily['Month'] = pd.to_datetime(df_stores_total_daily['date']).dt.month\n",
    "df_stores_total_daily['WeekOfMonth'] = pd.to_datetime(df_stores_total_daily['date']).dt.day.apply(lambda day: math.ceil(int(day)/7))\n",
    "df_stores_total_daily['WeekOfYear'] = pd.to_datetime(df_stores_total_daily['date']).dt.week\n",
    "df_stores_total_daily['DayOfMonth'] = pd.to_datetime(df_stores_total_daily['date']).dt.day\n",
    "df_stores_total_daily['DayOfYear'] = pd.to_datetime(df_stores_total_daily['date']).dt.dayofyear\n",
    "\n",
    "df_stores_total_daily.head()"
   ]
  },
  {
   "cell_type": "code",
   "execution_count": null,
   "metadata": {},
   "outputs": [],
   "source": [
    "# get cumulative earnings into sequence\n",
    "df_stores_total_monthly = df_stores_total_daily.groupby(by=['Month','Year']).sum()['earnings'].reset_index()\n",
    "df_stores_total_monthly.head()"
   ]
  },
  {
   "cell_type": "code",
   "execution_count": null,
   "metadata": {},
   "outputs": [],
   "source": [
    "fig, ax = plt.subplots(figsize=(1600/96., 600/96.))\r\n",
    "for key, grp in df_stores_total_monthly.groupby(['Year']):\r\n",
    "    ax = grp.plot(ax=ax, kind='line', x='Month', y='earnings', label=key)\r\n",
    "leg = ax.legend()\r\n",
    "plt.title(f'Yearling Earnings by Month Data')\r\n",
    "plt.xlabel('Month')\r\n",
    "plt.ylabel('Earnings')"
   ]
  },
  {
   "cell_type": "markdown",
   "metadata": {},
   "source": [
    "# Cumulative Earnings Data"
   ]
  },
  {
   "cell_type": "code",
   "execution_count": null,
   "metadata": {},
   "outputs": [],
   "source": [
    "fig, ax = plt.subplots(figsize=(1600/96., 600/96.))\n",
    "ax = df_stores_total_daily.plot(ax=ax, kind='line', x='date', y='earnings', label=key)\n",
    "leg = ax.legend()\n",
    "plt.title(f'Original Earnings Data')\n",
    "plt.xlabel('Period')\n",
    "plt.ylabel('Earnings')\n"
   ]
  },
  {
   "cell_type": "markdown",
   "metadata": {},
   "source": [
    "# Split Data"
   ]
  },
  {
   "cell_type": "code",
   "execution_count": null,
   "metadata": {},
   "outputs": [],
   "source": [
    "#split data\r\n",
    "data_all = df_stores_total_daily.earnings\r\n",
    "sz = len(data_all)\r\n",
    "test_sz = math.floor(.2 * sz)\r\n",
    "sz, test_sz"
   ]
  },
  {
   "cell_type": "code",
   "execution_count": null,
   "metadata": {},
   "outputs": [],
   "source": [
    "train_data = data_all[:-test_sz]\r\n",
    "test_data = data_all[-test_sz:]\r\n",
    "len(train_data)+len(test_data), len(test_data)"
   ]
  },
  {
   "cell_type": "code",
   "execution_count": null,
   "metadata": {},
   "outputs": [],
   "source": [
    "msmin, msmax = train_data.min(), train_data.max()\r\n",
    "print(f'Min: {msmin}, Max: {msmax}')\r\n",
    "train_data_scaled = (train_data - msmin) / (msmax - msmin)"
   ]
  },
  {
   "cell_type": "code",
   "execution_count": null,
   "metadata": {},
   "outputs": [],
   "source": [
    "fig, ax = plt.subplots(figsize=(1600/96., 600/96.))\n",
    "ax = data_all.plot(ax=ax, kind='line', x='days', y='earnings')\n",
    "leg = ax.legend()\n",
    "plt.title(f'Earnings Data')\n",
    "plt.xlabel('Days')\n",
    "plt.ylabel('Earnings')\n",
    "\n"
   ]
  },
  {
   "cell_type": "markdown",
   "metadata": {},
   "source": [
    "# Create Dataset with Lookback"
   ]
  },
  {
   "cell_type": "code",
   "execution_count": null,
   "metadata": {},
   "outputs": [],
   "source": [
    "# lookback window\r\n",
    "window = 100"
   ]
  },
  {
   "cell_type": "code",
   "execution_count": null,
   "metadata": {},
   "outputs": [],
   "source": [
    "class SeqDataset(Dataset):\r\n",
    "    def __init__(self, sequence: torch.Tensor, window: int) -> None:\r\n",
    "        self.sz = len(sequence) - window\r\n",
    "        self.win = window\r\n",
    "        self.seq = sequence\r\n",
    "\r\n",
    "    def __len__(self) -> int:\r\n",
    "        return self.sz\r\n",
    "\r\n",
    "    def __getitem__(self, i: int) -> Tuple[torch.Tensor, torch.Tensor]:\r\n",
    "        e = i + self.win\r\n",
    "        return self.seq[i:e], self.seq[e:e+1]\r\n",
    "\r\n",
    "    def scale(sequence: torch.Tensor, min: float, max: float) -> torch.Tensor:\r\n",
    "        return (sequence - min) / (max - min)\r\n",
    "\r\n",
    "    def inverse_scale(sequence: torch.Tensor, min: float, max: float) -> torch.Tensor:\r\n",
    "        return (sequence*(max - min)) + min\r\n",
    "\r\n"
   ]
  },
  {
   "cell_type": "code",
   "execution_count": null,
   "metadata": {},
   "outputs": [],
   "source": [
    "# min/max for scaling\r\n",
    "cmin, cmax = data_all.min(), data_all.max()\r\n",
    "print(f'{cmin} to {cmax}')\r\n",
    "metadata = { \r\n",
    "    \"min\": float(cmin), \r\n",
    "    \"max\": float(cmax), \r\n",
    "    \"window\": window \r\n",
    "}\r\n",
    "# scale\r\n",
    "data_all = SeqDataset.scale(data_all, cmin, cmax)\r\n",
    "# data split\r\n",
    "test_sz = math.floor(0.20 * len(data_all))\r\n",
    "train_data = torch.FloatTensor(data_all[:-test_sz])\r\n",
    "val_data = torch.FloatTensor(data_all.to_numpy()[-test_sz:])\r\n",
    "# create sequence datasets\r\n",
    "train_dataset = SeqDataset(train_data, window)\r\n",
    "val_dataset = SeqDataset(val_data, window)"
   ]
  },
  {
   "cell_type": "code",
   "execution_count": null,
   "metadata": {},
   "outputs": [],
   "source": [
    "trainloader = DataLoader(dataset = train_dataset, batch_size = 64, num_workers= 4, shuffle = True)"
   ]
  },
  {
   "cell_type": "markdown",
   "metadata": {},
   "source": [
    "# Model"
   ]
  },
  {
   "cell_type": "code",
   "execution_count": null,
   "metadata": {},
   "outputs": [],
   "source": [
    "# Model params\n",
    "input_dim = 1\n",
    "hidden_dim = 32\n",
    "num_layers = 2\n",
    "output_dim = 1\n",
    "num_epochs = 10\n",
    "\n",
    "device = torch.device('cuda:0' if torch.cuda.is_available() else 'cpu')\n",
    "print(device)\n"
   ]
  },
  {
   "cell_type": "code",
   "execution_count": null,
   "metadata": {},
   "outputs": [],
   "source": [
    "import torch\n",
    "import torch.nn as nn\n",
    "\n",
    "class GRU(nn.Module):\n",
    "    def __init__(self, input_dim, hidden_dim, num_layers, output_dim):\n",
    "        super(GRU, self).__init__()\n",
    "\n",
    "        self.hidden_dim = hidden_dim\n",
    "        self.num_layers = num_layers\n",
    "\n",
    "        self.gru = nn.GRU(input_dim, hidden_dim, num_layers, batch_first=True)\n",
    "        self.fc = nn.Linear(hidden_dim, output_dim)\n",
    "\n",
    "    def forward(self, x):\n",
    "        h0 = torch.zeros(self.num_layers, x.size(0), self.hidden_dim).requires_grad_().to(device)\n",
    "        out, (hn) = self.gru(x.view(-1, x.size(1), 1), (h0.detach()))\n",
    "        out = self.fc(out[:, -1, :])\n",
    "        return out\n",
    "    "
   ]
  },
  {
   "cell_type": "code",
   "execution_count": null,
   "metadata": {},
   "outputs": [],
   "source": [
    "model = GRU(input_dim=input_dim, hidden_dim=hidden_dim, output_dim=output_dim, num_layers=num_layers)\r\n",
    "model.to(device)"
   ]
  },
  {
   "cell_type": "code",
   "execution_count": null,
   "metadata": {},
   "outputs": [],
   "source": [
    "criterion = torch.nn.MSELoss(reduction='mean').to(device)\n",
    "optimizer = torch.optim.Adam(model.parameters(), lr=0.01)\n",
    "\n",
    "with torch.profiler.profile(\n",
    "    activities=[\n",
    "        torch.profiler.ProfilerActivity.CPU,\n",
    "        torch.profiler.ProfilerActivity.CUDA\n",
    "        ],\n",
    "    schedule=torch.profiler.schedule(\n",
    "        wait=2,\n",
    "        warmup=3,\n",
    "        active=6),\n",
    "    on_trace_ready=torch.profiler.tensorboard_trace_handler('./logs',\"worker1\"),\n",
    "    record_shapes=True\n",
    ") as p:\n",
    "# TODO: add training loop"
   ]
  },
  {
   "cell_type": "markdown",
   "metadata": {},
   "source": [
    "# Model Performance"
   ]
  },
  {
   "cell_type": "code",
   "execution_count": null,
   "metadata": {},
   "outputs": [],
   "source": [
    "def predict(seq: List[float], window: int, lookbehind: int, lookahead: int) -> List[float]:\n",
    "    overlap = []\n",
    "    predixn = seq[-window:]\n",
    "    model.eval()\n",
    "    with torch.no_grad():\n",
    "        # get lookbehind period (overlap)\n",
    "        for i in reversed(range(1, lookbehind+1)):\n",
    "            x = torch.FloatTensor(seq[-window-i:-i]).view(1, -1).to(device)\n",
    "            y = model(x)\n",
    "            overlap.append(y.detach().item())\n",
    "        # begin lookahead period (predictions)\n",
    "        for i in range(lookahead):\n",
    "            x = torch.FloatTensor(predixn[-window:]).view(1, -1).to(device)\n",
    "            y = model(x)\n",
    "            predixn.append(y.detach().item())\n",
    "    return overlap + predixn[-lookahead:]"
   ]
  },
  {
   "cell_type": "code",
   "execution_count": null,
   "metadata": {},
   "outputs": [],
   "source": [
    "#plot simulation\n",
    "sequence = val_dataset.seq #validation sequence\n",
    "# caluate lookback and forward\n",
    "behind = math.floor(len(sequence) / 2)\n",
    "forward = math.floor(behind / 2)\n",
    "# predict\n",
    "p_seq = predict(list(sequence), window, behind, forward)\n",
    "# inverse scale\n",
    "p_seq = SeqDataset.inverse_scale(torch.FloatTensor(p_seq), cmin, cmax)\n",
    "r_seq = SeqDataset.inverse_scale(torch.FloatTensor(sequence), cmin, cmax)\n",
    "# create indices\n",
    "seq_size = sequence.size(0)\n",
    "#print(seq_size)\n",
    "actual_range = [i for i in range(seq_size)]\n",
    "#print(actual_range)\n",
    "pred_range = [i for i in range(seq_size-behind-1,seq_size+forward-1)]\n",
    "#print(pred_range)\n"
   ]
  },
  {
   "cell_type": "code",
   "execution_count": null,
   "metadata": {},
   "outputs": [],
   "source": [
    "# plot predictions over actuals\n",
    "import matplotlib.ticker as tick\n",
    "fig, ax = plt.subplots(figsize=(1600/96., 600/96.))\n",
    "ax.plot(actual_range, r_seq, color='blue', label='actual')\n",
    "ax.plot(pred_range, p_seq, color='red', label='predictions')\n",
    "ax.yaxis.set_major_formatter(tick.FuncFormatter(lambda x, p: '${:1.0f}K'.format(x/1000.)))\n",
    "leg = ax.legend()\n",
    "plt.title(f'Sequence Prediction [Back: {behind}, Forward: {forward}]')\n",
    "plt.xlabel('Period')\n",
    "plt.ylabel('Earnings')\n",
    "# save image\n",
    "plt.savefig('logs/validation_data.png', dpi=96)"
   ]
  },
  {
   "cell_type": "code",
   "execution_count": null,
   "metadata": {},
   "outputs": [],
   "source": [
    "writer.close()"
   ]
  }
 ],
 "metadata": {
  "kernelspec": {
   "display_name": "Python 3.6.9 64-bit ('azureml_py36': conda)",
   "name": "python369jvsc74a57bd00b23af0ce16aa97b5d48acae7fae86d8f282aae2868783ba0fe17672ed39eae2"
  },
  "language_info": {
   "codemirror_mode": {
    "name": "ipython",
    "version": 3
   },
   "file_extension": ".py",
   "mimetype": "text/x-python",
   "name": "python",
   "nbconvert_exporter": "python",
   "pygments_lexer": "ipython3",
   "version": "3.6.9"
  },
  "metadata": {
   "interpreter": {
    "hash": "0b23af0ce16aa97b5d48acae7fae86d8f282aae2868783ba0fe17672ed39eae2"
   }
  },
  "orig_nbformat": 2
 },
 "nbformat": 4,
 "nbformat_minor": 2
}